{
  "cells": [
    {
      "cell_type": "markdown",
      "metadata": {},
      "source": [
        "# Manipulando arquivos\n",
        "\n",
        "::: callout-warning\n",
        "## WORK IN PROGRESS\n",
        ":::\n",
        "\n",
        "## O que é o Shell?\n",
        "\n",
        "Tipicamente, quando interagimos com um computador, utilizamos o que é chamado *graphical user interface* (ou GUI), que funciona através de interações com o *mouse.*\n",
        "\n",
        "No entanto, apesar de *GUI*s serem intuitivas e fáceis de entender, é difícil fornecer instruções complexas, com muitos passos ou que envolvam várias operações sequenciais. Por exemplo, se você precisa copiar a terceira linha de mil arquivos de texto em centenas de diferentes diretórios, utilizando uma GUI esse processo se torna rapidamente inviável.\n",
        "\n",
        "Portanto, por fazerem tais atividades triviais, as **interfaces de linha de comando** (CLIs) se tornam indispensáveis até mesmo hoje em dia. Nesse contexto, temos o ***Shell***, o programa onde o usuário digita comandos, que serão então executados e interpretados. O *Shell* mais popular hoje em dia, e presente em sistemas operacionais *Unix*, como o Linux, é o **Bash**.\n",
        "\n",
        "Entretanto, para se utilizar o *Shell* e a linha de comando, é necessário aprender e entender que operações são possíveis. Nesse curso, iremos expor os comandos e operações mais comuns de se realizarem em uma linha de comando, possibilitando que você entenda a base e possa então progredir para usos mais avançados e específicos.\n",
        "\n",
        "## Navegando por arquivos e diretórios\n",
        "\n",
        "Vamos começar!\n",
        "\n",
        "Quando você abrir o *shell* pela primeira vez, você será apresentado ao ***prompt*** **de comando**, geralmente um cifrão, acompanhado de um cursor de texto. Em alguns sistemas operacionais é comum o prompt conter o nome do usuário e da máquina:\n",
        "\n",
        "\n",
        "\n",
        "```{bash}\n",
        "biome@biome $\n",
        "```\n",
        "\n",
        "\n",
        "\n",
        "A maneira que interagimos com o *shell* é através de comandos digitados no *prompt*, que são então executados quando você pressiona a tecla **Enter**.\n",
        "\n",
        "Mas você ainda não sabe nenhum comando! Então, para começarmos, use o comando `ls`, que significa **l**i**s**tar, que lista os arquivos na pasta, ou diretório, atual:\n",
        "\n",
        "\n",
        "\n",
        "```{bash}\n",
        "ls\n",
        "```"
      ],
      "id": "0911f7df"
    }
  ],
  "metadata": {
    "kernelspec": {
      "display_name": "Python 3",
      "language": "python",
      "name": "python3"
    }
  },
  "nbformat": 4,
  "nbformat_minor": 5
}